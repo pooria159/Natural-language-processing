{
  "nbformat": 4,
  "nbformat_minor": 0,
  "metadata": {
    "colab": {
      "provenance": [],
      "gpuType": "T4"
    },
    "kernelspec": {
      "name": "python3",
      "display_name": "Python 3"
    },
    "language_info": {
      "name": "python"
    },
    "accelerator": "GPU"
  },
  "cells": [
    {
      "cell_type": "markdown",
      "source": [
        "# Simple Sentiment Analyser"
      ],
      "metadata": {
        "id": "jY4bE9_OqCer"
      }
    },
    {
      "cell_type": "code",
      "source": [
        "import numpy as np\n",
        "from sklearn.model_selection import train_test_split\n",
        "from sklearn.decomposition import TruncatedSVD\n",
        "from sklearn.feature_extraction.text import CountVectorizer\n",
        "from sklearn.pipeline import make_pipeline\n",
        "from sklearn.svm import SVC\n",
        "from sklearn.metrics import accuracy_score\n",
        "from nltk.corpus import movie_reviews\n",
        "from tqdm import tqdm\n",
        "import nltk\n",
        "import spacy"
      ],
      "metadata": {
        "id": "SAU04IeenwBt"
      },
      "execution_count": null,
      "outputs": []
    },
    {
      "cell_type": "code",
      "source": [
        "nltk.download('movie_reviews')\n",
        "\n",
        "# Load spaCy English model\n",
        "nlp = spacy.load(\"en_core_web_sm\")\n",
        "\n",
        "# Load IMDB Movie Reviews dataset from NLTK\n",
        "movie_reviews_data = [(movie_reviews.raw(fileid), category) for category in movie_reviews.categories() for fileid in movie_reviews.fileids(category)]\n",
        "\n",
        "# Extract texts and labels\n",
        "texts, labels = zip(*movie_reviews_data)\n",
        "\n",
        "# Convert labels to binary (0 for negative, 1 for positive)\n",
        "labels = # Please complete this\n",
        "\n",
        "# Split the dataset into training and testing sets\n",
        "X_train, X_test, y_train, y_test = train_test_split(texts, labels, test_size=0.2, random_state=42)"
      ],
      "metadata": {
        "id": "P5g23Inwnzec"
      },
      "execution_count": null,
      "outputs": []
    },
    {
      "cell_type": "code",
      "source": [
        "# Function to calculate document embeddings using spaCy\n",
        "def calculate_embeddings(texts):\n",
        "    embeddings = []\n",
        "    for text in tqdm(texts):\n",
        "        doc = nlp(text)\n",
        "        # Average word vectors to get document vector\n",
        "        doc_vector = # Please complete this\n",
        "        embeddings.append(doc_vector)\n",
        "    return np.array(embeddings)\n",
        "\n",
        "# Calculate embeddings for training and testing sets\n",
        "X_train_embeddings = calculate_embeddings(X_train)\n",
        "X_test_embeddings = calculate_embeddings(X_test)"
      ],
      "metadata": {
        "id": "O-TII6_Xmhre"
      },
      "execution_count": null,
      "outputs": []
    },
    {
      "cell_type": "code",
      "source": [
        "# Build a pipeline with TruncatedSVD and SVM classifier\n",
        "# Specify the best n_components hyperparameter.\n",
        "model = make_pipeline(TruncatedSVD(n_components=???), SVC())\n",
        "\n",
        "# Fit the model on training data\n",
        "model.fit(X_train_embeddings, y_train)\n",
        "\n",
        "# Make predictions on test data\n",
        "predictions = model.predict(X_test_embeddings)\n",
        "\n",
        "# Evaluate the accuracy\n",
        "accuracy = accuracy_score(y_test, predictions)\n",
        "print(f\"Accuracy: {accuracy}\")"
      ],
      "metadata": {
        "id": "KJtzWBY4n3Xv"
      },
      "execution_count": null,
      "outputs": []
    },
    {
      "cell_type": "markdown",
      "source": [
        "#More accurate one"
      ],
      "metadata": {
        "id": "p0KqRUkVqKea"
      }
    },
    {
      "cell_type": "code",
      "source": [
        "import numpy as np\n",
        "from sklearn.model_selection import train_test_split\n",
        "from sklearn.decomposition import TruncatedSVD\n",
        "from sklearn.pipeline import make_pipeline\n",
        "from sklearn.svm import SVC\n",
        "from sklearn.metrics import accuracy_score\n",
        "from nltk.corpus import movie_reviews\n",
        "from transformers import AutoTokenizer, AutoModel\n",
        "import torch"
      ],
      "metadata": {
        "id": "jroFbuNrqNU0"
      },
      "execution_count": null,
      "outputs": []
    },
    {
      "cell_type": "code",
      "source": [
        "# Load BERT tokenizer and model\n",
        "tokenizer = AutoTokenizer.from_pretrained(\"bert-base-uncased\")\n",
        "bert_model = AutoModel.from_pretrained(\"bert-base-uncased\")"
      ],
      "metadata": {
        "id": "FX3DNIONqn6Z"
      },
      "execution_count": null,
      "outputs": []
    },
    {
      "cell_type": "code",
      "source": [
        "def calculate_embeddings(texts):\n",
        "    embeddings = []\n",
        "    for text in tqdm(texts):\n",
        "        # Tokenize the text\n",
        "        tokens = tokenizer(text, return_tensors=\"pt\", truncation=True, padding=True)\n",
        "\n",
        "        # Get BERT model output\n",
        "        with torch.no_grad():\n",
        "            model_output = bert_model(**tokens)\n",
        "\n",
        "        # Use mean pooling to get sentence embeddings\n",
        "        doc_vector = # Please complete this\n",
        "        embeddings.append(doc_vector)\n",
        "\n",
        "    return np.array(embeddings)\n",
        "\n",
        "\n",
        "# Calculate embeddings for training and testing sets\n",
        "X_train_embeddings = calculate_embeddings(X_train)\n",
        "X_test_embeddings = calculate_embeddings(X_test)"
      ],
      "metadata": {
        "id": "vElOSRMTqtHP"
      },
      "execution_count": null,
      "outputs": []
    },
    {
      "cell_type": "code",
      "source": [
        "# Build a pipeline with TruncatedSVD and SVM classifier\n",
        "# Specify the best n_components hyperparameter.\n",
        "model = make_pipeline(TruncatedSVD(n_components=???), SVC())\n",
        "\n",
        "# Fit the model on training data\n",
        "model.fit(X_train_embeddings, y_train)\n",
        "\n",
        "# Make predictions on test data\n",
        "predictions = model.predict(X_test_embeddings)\n",
        "\n",
        "# Evaluate the accuracy\n",
        "accuracy = accuracy_score(y_test, predictions)\n",
        "print(f\"Accuracy: {accuracy}\")"
      ],
      "metadata": {
        "id": "Bl8uJ9nmq2vX"
      },
      "execution_count": null,
      "outputs": []
    }
  ]
}